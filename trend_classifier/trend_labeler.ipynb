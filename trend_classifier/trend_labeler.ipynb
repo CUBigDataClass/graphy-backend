{
 "cells": [
  {
   "cell_type": "code",
   "execution_count": 3,
   "metadata": {
    "ExecuteTime": {
     "end_time": "2018-04-29T00:04:57.189123Z",
     "start_time": "2018-04-29T00:04:57.185511Z"
    },
    "collapsed": true
   },
   "outputs": [],
   "source": [
    "import json\n",
    "import csv\n"
   ]
  },
  {
   "cell_type": "code",
   "execution_count": 4,
   "metadata": {
    "ExecuteTime": {
     "end_time": "2018-04-29T00:04:58.425186Z",
     "start_time": "2018-04-29T00:04:58.025568Z"
    },
    "collapsed": true
   },
   "outputs": [],
   "source": [
    "with open('markers.json', 'r') as f:\n",
    "    data = json.load(f)"
   ]
  },
  {
   "cell_type": "code",
   "execution_count": 5,
   "metadata": {
    "ExecuteTime": {
     "end_time": "2018-04-29T00:05:00.581646Z",
     "start_time": "2018-04-29T00:05:00.570389Z"
    }
   },
   "outputs": [
    {
     "data": {
      "text/plain": [
       "dict_keys(['geo_json', 'topic_counts', 'trend_classification'])"
      ]
     },
     "execution_count": 5,
     "metadata": {},
     "output_type": "execute_result"
    }
   ],
   "source": [
    "data.keys()"
   ]
  },
  {
   "cell_type": "code",
   "execution_count": 6,
   "metadata": {
    "ExecuteTime": {
     "end_time": "2018-04-29T00:05:02.281039Z",
     "start_time": "2018-04-29T00:05:02.181570Z"
    },
    "collapsed": true
   },
   "outputs": [],
   "source": [
    "# body, topic, trend\n",
    "data = [(e['properties']['5056'],e['properties']['5074'],e['properties']['5057'] )for e in data['geo_json']['features']]"
   ]
  },
  {
   "cell_type": "code",
   "execution_count": 8,
   "metadata": {
    "ExecuteTime": {
     "end_time": "2018-04-29T00:05:24.790393Z",
     "start_time": "2018-04-29T00:05:24.583894Z"
    },
    "collapsed": true
   },
   "outputs": [],
   "source": [
    "with open('markers.csv','w') as f:\n",
    "    w = csv.writer(f, delimiter=',')\n",
    "    w.writerow(['body','topic,trend'])\n",
    "    for line in data:\n",
    "            w.writerow(line)"
   ]
  },
  {
   "cell_type": "code",
   "execution_count": 7,
   "metadata": {
    "ExecuteTime": {
     "end_time": "2018-04-29T00:05:10.912810Z",
     "start_time": "2018-04-29T00:05:10.908055Z"
    }
   },
   "outputs": [
    {
     "data": {
      "text/plain": [
       "49828"
      ]
     },
     "execution_count": 7,
     "metadata": {},
     "output_type": "execute_result"
    }
   ],
   "source": [
    "len(data)"
   ]
  },
  {
   "cell_type": "code",
   "execution_count": 12,
   "metadata": {
    "ExecuteTime": {
     "end_time": "2018-04-29T20:04:52.373263Z",
     "start_time": "2018-04-29T20:04:52.363478Z"
    }
   },
   "outputs": [],
   "source": [
    "trends = set(map(lambda x:x[2],data))"
   ]
  },
  {
   "cell_type": "code",
   "execution_count": 17,
   "metadata": {
    "ExecuteTime": {
     "end_time": "2018-04-29T20:15:27.195820Z",
     "start_time": "2018-04-29T20:15:27.158009Z"
    }
   },
   "outputs": [
    {
     "data": {
      "text/plain": [
       "[('Infinity War', 1448),\n",
       " ('Bill Cosby', 1181),\n",
       " ('#oldheadshotday', 1149),\n",
       " ('#WWEGRR', 1062),\n",
       " ('Eagles', 967),\n",
       " ('Falcons', 830),\n",
       " ('#FridayFeeling', 767),\n",
       " ('#NFLDraft', 752),\n",
       " ('Korea', 713),\n",
       " ('Titus', 661),\n",
       " ('#StandWithUs', 656),\n",
       " ('Shane', 643),\n",
       " ('#FlashbackFriday', 606),\n",
       " ('Casey', 589),\n",
       " ('Prince Louis', 556),\n",
       " ('Daniel Bryan', 541),\n",
       " ('DeMar', 533),\n",
       " ('Go Jets', 532),\n",
       " ('#OnceUponATime', 522),\n",
       " ('Lowry', 520),\n",
       " ('#kidsMW', 516),\n",
       " ('#Blindspot', 515),\n",
       " ('#poltwt', 513),\n",
       " ('David Akers', 512),\n",
       " ('#MakeFilmsIrish', 509),\n",
       " ('#NewMusicFriday', 507),\n",
       " ('Poeltl', 506),\n",
       " ('Back to the Future', 505),\n",
       " ('North and South Korea', 504),\n",
       " ('Justin Smoak', 502),\n",
       " ('Rumble', 501),\n",
       " ('Marcus Stroman', 500),\n",
       " ('#BrightonSEO', 497),\n",
       " ('Claude Julien', 497),\n",
       " ('Bench Mob', 496),\n",
       " ('Marc Wadsworth', 496),\n",
       " ('Royce White', 495),\n",
       " ('Brian Burke', 494),\n",
       " ('#arsatl', 493),\n",
       " ('#ABBA', 492),\n",
       " ('#BTSIA', 491),\n",
       " ('#dws18', 488),\n",
       " ('#FridayMotivation', 486),\n",
       " ('Girls Aloud', 486),\n",
       " ('Cowboys', 485),\n",
       " ('Hart', 485),\n",
       " ('Brandon Tanev', 484),\n",
       " ('Jeff Beck', 480),\n",
       " ('Fulham', 476),\n",
       " ('Kim Jong Un', 476),\n",
       " ('Fred VanVleet', 474),\n",
       " ('#BBC4', 473),\n",
       " ('Derrius Guice', 473),\n",
       " ('#trumpvisit', 468),\n",
       " ('#Gogglebox', 465),\n",
       " ('#ComeOutForLGBT', 459),\n",
       " ('#AzerbaijanGP', 457),\n",
       " ('#ANTM', 456),\n",
       " ('Andres Iniesta', 455),\n",
       " ('Louis Arthur Charles', 447),\n",
       " ('Orlando Bloom', 447),\n",
       " ('Bridgestone Arena', 447),\n",
       " ('Wall', 446),\n",
       " ('Steven Gerrard', 445),\n",
       " ('Craven Cottage', 437),\n",
       " ('Todd McLellan', 432),\n",
       " ('Kym Marsh', 432),\n",
       " ('#FootballShirtFriday', 404),\n",
       " ('Baker Mayfield', 398),\n",
       " ('#NorthOverEverything', 385),\n",
       " ('Milner', 380),\n",
       " ('#AvengersInfinityWar', 378),\n",
       " ('Paul Stastny', 378),\n",
       " ('Unai Emery', 371),\n",
       " ('Amber Rudd', 366),\n",
       " ('#UltimateBoxxer', 329),\n",
       " ('#EdBallsDay', 322),\n",
       " ('#podcast', 259),\n",
       " ('Kelly Oubre', 258),\n",
       " ('Boisbriand', 256),\n",
       " ('Punchestown', 256),\n",
       " ('Steve Paikin', 253),\n",
       " ('#playlistlive', 252),\n",
       " ('#plasticfree', 252),\n",
       " ('Amex Stadium', 252),\n",
       " ('John Wall', 251),\n",
       " ('Hellebuyck', 248),\n",
       " ('King Louis', 247),\n",
       " ('warwick', 245),\n",
       " ('#healthy', 245),\n",
       " ('#LifeSentence', 245),\n",
       " ('#BCBF_18', 244),\n",
       " ('Devon', 243),\n",
       " ('#CELRAN', 243),\n",
       " ('Exeter', 241),\n",
       " ('#journalismjobs', 240),\n",
       " ('#DayOfMourning', 240),\n",
       " ('Hearts', 239),\n",
       " ('#Ambulance', 237),\n",
       " ('#Windrush', 235),\n",
       " ('Oubre', 232),\n",
       " ('Morris', 232),\n",
       " ('#RBWeek', 226),\n",
       " ('#theFUTUREisFEMINIST', 206),\n",
       " ('#OCCAGM', 201),\n",
       " ('#HIP613', 173),\n",
       " ('#SSMvsKIT', 130),\n",
       " ('blue and white day', 126),\n",
       " ('Matthew Welsh', 123),\n",
       " ('#ornithology', 117),\n",
       " ('#GodsOfRAG', 113),\n",
       " ('#London', 111),\n",
       " ('#sulsaamr', 98),\n",
       " ('#NeverBeTheSameTourToronto', 92),\n",
       " ('#CAHR2018', 90),\n",
       " ('#TheAsianAwards', 54),\n",
       " ('#POWparade', 52),\n",
       " ('#rugbyrocks', 38),\n",
       " ('#time4sign', 35),\n",
       " ('#BeatBoss7QualifiersFinal', 28),\n",
       " ('#Pliskova', 28),\n",
       " ('#ForumINTL', 28),\n",
       " ('Martin Coiteux', 23),\n",
       " ('best scottish poems 2017', 22),\n",
       " ('#Vandeweghe', 12),\n",
       " ('#cfvlf2018', 11),\n",
       " ('#SpringForSiloam', 7)]"
      ]
     },
     "execution_count": 17,
     "metadata": {},
     "output_type": "execute_result"
    }
   ],
   "source": [
    "trend_count = {}\n",
    "for tweet in data:\n",
    "    c = trend_count.get(tweet[2],0)\n",
    "    trend_count[tweet[2]] = c+1\n",
    "\n",
    "sorted(trend_count.items(),key=lambda x:x[1], reverse=True)"
   ]
  },
  {
   "cell_type": "code",
   "execution_count": 13,
   "metadata": {
    "ExecuteTime": {
     "end_time": "2018-04-29T20:05:33.314250Z",
     "start_time": "2018-04-29T20:05:33.308739Z"
    }
   },
   "outputs": [
    {
     "data": {
      "text/plain": [
       "127"
      ]
     },
     "execution_count": 13,
     "metadata": {},
     "output_type": "execute_result"
    }
   ],
   "source": [
    "len(trends)"
   ]
  },
  {
   "cell_type": "markdown",
   "metadata": {},
   "source": [
    "Event\n",
    "Sports\n",
    "Politics\n",
    "News\n",
    "Technology\n",
    "Business\n",
    "Mood\n",
    "Entertainment"
   ]
  },
  {
   "cell_type": "code",
   "execution_count": 14,
   "metadata": {
    "ExecuteTime": {
     "end_time": "2018-04-29T20:08:48.864851Z",
     "start_time": "2018-04-29T20:08:48.856374Z"
    }
   },
   "outputs": [
    {
     "data": {
      "text/plain": [
       "{'#ABBA',\n",
       " '#ANTM',\n",
       " '#Ambulance',\n",
       " '#AvengersInfinityWar',\n",
       " '#AzerbaijanGP',\n",
       " '#BBC4',\n",
       " '#BCBF_18',\n",
       " '#BTSIA',\n",
       " '#BeatBoss7QualifiersFinal',\n",
       " '#Blindspot',\n",
       " '#BrightonSEO',\n",
       " '#CAHR2018',\n",
       " '#CELRAN',\n",
       " '#ComeOutForLGBT',\n",
       " '#DayOfMourning',\n",
       " '#EdBallsDay',\n",
       " '#FlashbackFriday',\n",
       " '#FootballShirtFriday',\n",
       " '#ForumINTL',\n",
       " '#FridayFeeling',\n",
       " '#FridayMotivation',\n",
       " '#GodsOfRAG',\n",
       " '#Gogglebox',\n",
       " '#HIP613',\n",
       " '#LifeSentence',\n",
       " '#London',\n",
       " '#MakeFilmsIrish',\n",
       " '#NFLDraft',\n",
       " '#NeverBeTheSameTourToronto',\n",
       " '#NewMusicFriday',\n",
       " '#NorthOverEverything',\n",
       " '#OCCAGM',\n",
       " '#OnceUponATime',\n",
       " '#POWparade',\n",
       " '#Pliskova',\n",
       " '#RBWeek',\n",
       " '#SSMvsKIT',\n",
       " '#SpringForSiloam',\n",
       " '#StandWithUs',\n",
       " '#TheAsianAwards',\n",
       " '#UltimateBoxxer',\n",
       " '#Vandeweghe',\n",
       " '#WWEGRR',\n",
       " '#Windrush',\n",
       " '#arsatl',\n",
       " '#cfvlf2018',\n",
       " '#dws18',\n",
       " '#healthy',\n",
       " '#journalismjobs',\n",
       " '#kidsMW',\n",
       " '#oldheadshotday',\n",
       " '#ornithology',\n",
       " '#plasticfree',\n",
       " '#playlistlive',\n",
       " '#podcast',\n",
       " '#poltwt',\n",
       " '#rugbyrocks',\n",
       " '#sulsaamr',\n",
       " '#theFUTUREisFEMINIST',\n",
       " '#time4sign',\n",
       " '#trumpvisit',\n",
       " 'Amber Rudd',\n",
       " 'Amex Stadium',\n",
       " 'Andres Iniesta',\n",
       " 'Back to the Future',\n",
       " 'Baker Mayfield',\n",
       " 'Bench Mob',\n",
       " 'Bill Cosby',\n",
       " 'Boisbriand',\n",
       " 'Brandon Tanev',\n",
       " 'Brian Burke',\n",
       " 'Bridgestone Arena',\n",
       " 'Casey',\n",
       " 'Claude Julien',\n",
       " 'Cowboys',\n",
       " 'Craven Cottage',\n",
       " 'Daniel Bryan',\n",
       " 'David Akers',\n",
       " 'DeMar',\n",
       " 'Derrius Guice',\n",
       " 'Devon',\n",
       " 'Eagles',\n",
       " 'Exeter',\n",
       " 'Falcons',\n",
       " 'Fred VanVleet',\n",
       " 'Fulham',\n",
       " 'Girls Aloud',\n",
       " 'Go Jets',\n",
       " 'Hart',\n",
       " 'Hearts',\n",
       " 'Hellebuyck',\n",
       " 'Infinity War',\n",
       " 'Jeff Beck',\n",
       " 'John Wall',\n",
       " 'Justin Smoak',\n",
       " 'Kelly Oubre',\n",
       " 'Kim Jong Un',\n",
       " 'King Louis',\n",
       " 'Korea',\n",
       " 'Kym Marsh',\n",
       " 'Louis Arthur Charles',\n",
       " 'Lowry',\n",
       " 'Marc Wadsworth',\n",
       " 'Marcus Stroman',\n",
       " 'Martin Coiteux',\n",
       " 'Matthew Welsh',\n",
       " 'Milner',\n",
       " 'Morris',\n",
       " 'North and South Korea',\n",
       " 'Orlando Bloom',\n",
       " 'Oubre',\n",
       " 'Paul Stastny',\n",
       " 'Poeltl',\n",
       " 'Prince Louis',\n",
       " 'Punchestown',\n",
       " 'Royce White',\n",
       " 'Rumble',\n",
       " 'Shane',\n",
       " 'Steve Paikin',\n",
       " 'Steven Gerrard',\n",
       " 'Titus',\n",
       " 'Todd McLellan',\n",
       " 'Unai Emery',\n",
       " 'Wall',\n",
       " 'best scottish poems 2017',\n",
       " 'blue and white day',\n",
       " 'warwick'}"
      ]
     },
     "execution_count": 14,
     "metadata": {},
     "output_type": "execute_result"
    }
   ],
   "source": [
    "trends"
   ]
  },
  {
   "cell_type": "markdown",
   "metadata": {},
   "source": [
    "{'#ABBA':'Entertainment',\n",
    " '#ANTM',\n",
    " '#Ambulance',\n",
    " '#AvengersInfinityWar':'Entertainment',\n",
    " '#AzerbaijanGP',\n",
    " '#BBC4',\n",
    " '#BCBF_18',\n",
    " '#BTSIA',\n",
    " '#BeatBoss7QualifiersFinal',\n",
    " '#Blindspot',\n",
    " '#BrightonSEO',\n",
    " '#CAHR2018',\n",
    " '#CELRAN',\n",
    " '#ComeOutForLGBT',\n",
    " '#DayOfMourning',\n",
    " '#EdBallsDay',\n",
    " '#FlashbackFriday':'Mood',\n",
    " '#FootballShirtFriday':,\n",
    " '#ForumINTL',\n",
    " '#FridayFeeling':'Mood',\n",
    " '#FridayMotivation',\n",
    " '#GodsOfRAG',\n",
    " '#Gogglebox',\n",
    " '#HIP613',\n",
    " '#LifeSentence',\n",
    " '#London',\n",
    " '#MakeFilmsIrish',\n",
    " '#NFLDraft',\n",
    " '#NeverBeTheSameTourToronto',\n",
    " '#NewMusicFriday',\n",
    " '#NorthOverEverything',\n",
    " '#OCCAGM',\n",
    " '#OnceUponATime',\n",
    " '#POWparade',\n",
    " '#Pliskova',\n",
    " '#RBWeek',\n",
    " '#SSMvsKIT',\n",
    " '#SpringForSiloam',\n",
    " '#StandWithUs',\n",
    " '#TheAsianAwards',\n",
    " '#UltimateBoxxer',\n",
    " '#Vandeweghe',\n",
    " '#WWEGRR',\n",
    " '#Windrush',\n",
    " '#arsatl',\n",
    " '#cfvlf2018',\n",
    " '#dws18',\n",
    " '#healthy',\n",
    " '#journalismjobs',\n",
    " '#kidsMW',\n",
    " '#oldheadshotday',\n",
    " '#ornithology',\n",
    " '#plasticfree',\n",
    " '#playlistlive',\n",
    " '#podcast',\n",
    " '#poltwt',\n",
    " '#rugbyrocks',\n",
    " '#sulsaamr',\n",
    " '#theFUTUREisFEMINIST',\n",
    " '#time4sign',\n",
    " '#trumpvisit',\n",
    " 'Amber Rudd',\n",
    " 'Amex Stadium',\n",
    " 'Andres Iniesta',\n",
    " 'Back to the Future',\n",
    " 'Baker Mayfield',\n",
    " 'Bench Mob',\n",
    " 'Bill Cosby',\n",
    " 'Boisbriand',\n",
    " 'Brandon Tanev',\n",
    " 'Brian Burke',\n",
    " 'Bridgestone Arena',\n",
    " 'Casey',\n",
    " 'Claude Julien',\n",
    " 'Cowboys',\n",
    " 'Craven Cottage',\n",
    " 'Daniel Bryan',\n",
    " 'David Akers',\n",
    " 'DeMar',\n",
    " 'Derrius Guice',\n",
    " 'Devon',\n",
    " 'Eagles',\n",
    " 'Exeter',\n",
    " 'Falcons',\n",
    " 'Fred VanVleet',\n",
    " 'Fulham',\n",
    " 'Girls Aloud',\n",
    " 'Go Jets',\n",
    " 'Hart',\n",
    " 'Hearts',\n",
    " 'Hellebuyck',\n",
    " 'Infinity War',\n",
    " 'Jeff Beck',\n",
    " 'John Wall',\n",
    " 'Justin Smoak',\n",
    " 'Kelly Oubre',\n",
    " 'Kim Jong Un',\n",
    " 'King Louis',\n",
    " 'Korea',\n",
    " 'Kym Marsh',\n",
    " 'Louis Arthur Charles',\n",
    " 'Lowry',\n",
    " 'Marc Wadsworth',\n",
    " 'Marcus Stroman',\n",
    " 'Martin Coiteux',\n",
    " 'Matthew Welsh',\n",
    " 'Milner',\n",
    " 'Morris',\n",
    " 'North and South Korea',\n",
    " 'Orlando Bloom',\n",
    " 'Oubre',\n",
    " 'Paul Stastny',\n",
    " 'Poeltl',\n",
    " 'Prince Louis',\n",
    " 'Punchestown',\n",
    " 'Royce White',\n",
    " 'Rumble',\n",
    " 'Shane',\n",
    " 'Steve Paikin',\n",
    " 'Steven Gerrard',\n",
    " 'Titus',\n",
    " 'Todd McLellan',\n",
    " 'Unai Emery',\n",
    " 'Wall',\n",
    " 'best scottish poems 2017',\n",
    " 'blue and white day',\n",
    " 'warwick'}\n",
    "\n"
   ]
  }
 ],
 "metadata": {
  "kernelspec": {
   "display_name": "Python 3",
   "language": "python",
   "name": "python3"
  },
  "language_info": {
   "codemirror_mode": {
    "name": "ipython",
    "version": 3
   },
   "file_extension": ".py",
   "mimetype": "text/x-python",
   "name": "python",
   "nbconvert_exporter": "python",
   "pygments_lexer": "ipython3",
   "version": "3.6.3"
  }
 },
 "nbformat": 4,
 "nbformat_minor": 2
}
